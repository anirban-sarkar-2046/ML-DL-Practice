{
 "cells": [
  {
   "cell_type": "code",
   "execution_count": null,
   "id": "e3f2ad6e-1310-43d5-8b2b-4a37cf0b6a1a",
   "metadata": {},
   "outputs": [],
   "source": [
    "import numpy as np\n",
    "from sklearn.model_selection import train_test_split\n",
    "from sklearn.linear_model import LinearRegression\n",
    "from mlxtend.evaluate import bias_variance_decomp\n",
    "\n",
    "np.random.seed(0)\n",
    "X = np.random.rand(100,1)*10\n",
    "y = 2*X.squeeze() + np.random.randn(100)\n",
    "\n",
    "X_train, X_test, y_train, y_test = train_test_split(X, y, test_size=0.2, random_state=42)\n",
    "model = LinearRegression()\n",
    "model.fit(X_train, y_train)\n",
    "\n",
    "mse, bias, variance = bias_variance_decomp(model, X_train, y_train, X_test, y_test, loss='mse')\n",
    "\n",
    "print(\"MSE (Mean Squared Error):\", mse)\n",
    "print(\"Bias^2:\", bias)\n",
    "print(\"Variance:\", variance)"
   ]
  },
  {
   "cell_type": "code",
   "execution_count": null,
   "id": "32182aa0-b197-49c0-89fb-0b7096ad50b0",
   "metadata": {},
   "outputs": [],
   "source": []
  }
 ],
 "metadata": {
  "kernelspec": {
   "display_name": "Python 3 (ipykernel)",
   "language": "python",
   "name": "python3"
  },
  "language_info": {
   "codemirror_mode": {
    "name": "ipython",
    "version": 3
   },
   "file_extension": ".py",
   "mimetype": "text/x-python",
   "name": "python",
   "nbconvert_exporter": "python",
   "pygments_lexer": "ipython3",
   "version": "3.12.5"
  }
 },
 "nbformat": 4,
 "nbformat_minor": 5
}
