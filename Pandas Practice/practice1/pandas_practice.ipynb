{
 "cells": [
  {
   "metadata": {},
   "cell_type": "markdown",
   "source": "",
   "id": "8a77807f92f26ee"
  },
  {
   "metadata": {
    "ExecuteTime": {
     "end_time": "2024-10-10T16:50:59.850340Z",
     "start_time": "2024-10-10T16:50:59.820833Z"
    }
   },
   "cell_type": "code",
   "source": "import pandas as pd",
   "id": "1503a38b6949c50b",
   "outputs": [],
   "execution_count": 80
  },
  {
   "metadata": {
    "ExecuteTime": {
     "end_time": "2024-10-10T16:51:01.606138Z",
     "start_time": "2024-10-10T16:51:01.589033Z"
    }
   },
   "cell_type": "code",
   "source": [
    "df = pd.DataFrame()\n",
    "df"
   ],
   "id": "678af9af734ee7ec",
   "outputs": [
    {
     "data": {
      "text/plain": [
       "Empty DataFrame\n",
       "Columns: []\n",
       "Index: []"
      ],
      "text/html": [
       "<div>\n",
       "<style scoped>\n",
       "    .dataframe tbody tr th:only-of-type {\n",
       "        vertical-align: middle;\n",
       "    }\n",
       "\n",
       "    .dataframe tbody tr th {\n",
       "        vertical-align: top;\n",
       "    }\n",
       "\n",
       "    .dataframe thead th {\n",
       "        text-align: right;\n",
       "    }\n",
       "</style>\n",
       "<table border=\"1\" class=\"dataframe\">\n",
       "  <thead>\n",
       "    <tr style=\"text-align: right;\">\n",
       "      <th></th>\n",
       "    </tr>\n",
       "  </thead>\n",
       "  <tbody>\n",
       "  </tbody>\n",
       "</table>\n",
       "</div>"
      ]
     },
     "execution_count": 81,
     "metadata": {},
     "output_type": "execute_result"
    }
   ],
   "execution_count": 81
  },
  {
   "metadata": {
    "ExecuteTime": {
     "end_time": "2024-10-10T16:51:04.717445Z",
     "start_time": "2024-10-10T16:51:04.700889Z"
    }
   },
   "cell_type": "code",
   "source": "df.info()",
   "id": "bd5d5fe40ed7a2fc",
   "outputs": [
    {
     "name": "stdout",
     "output_type": "stream",
     "text": [
      "<class 'pandas.core.frame.DataFrame'>\n",
      "RangeIndex: 0 entries\n",
      "Empty DataFrame\n"
     ]
    }
   ],
   "execution_count": 82
  },
  {
   "metadata": {
    "ExecuteTime": {
     "end_time": "2024-10-10T14:35:49.995992Z",
     "start_time": "2024-10-10T14:35:49.986761Z"
    }
   },
   "cell_type": "code",
   "source": "city = ['Dhaka', 'Rajshahi', 'Chittagong']",
   "id": "e90cea6177266cb8",
   "outputs": [],
   "execution_count": 5
  },
  {
   "metadata": {
    "ExecuteTime": {
     "end_time": "2024-10-10T14:36:07.062159Z",
     "start_time": "2024-10-10T14:36:07.012890Z"
    }
   },
   "cell_type": "code",
   "source": "city",
   "id": "a4b399f305edd342",
   "outputs": [
    {
     "data": {
      "text/plain": [
       "['Dhaka', 'Rajshahi', 'Chittagong']"
      ]
     },
     "execution_count": 6,
     "metadata": {},
     "output_type": "execute_result"
    }
   ],
   "execution_count": 6
  },
  {
   "metadata": {
    "ExecuteTime": {
     "end_time": "2024-10-10T14:36:17.027989Z",
     "start_time": "2024-10-10T14:36:17.013071Z"
    }
   },
   "cell_type": "code",
   "source": "df = pd.DataFrame(city)",
   "id": "250493656767d70e",
   "outputs": [],
   "execution_count": 7
  },
  {
   "metadata": {
    "ExecuteTime": {
     "end_time": "2024-10-10T14:36:24.455051Z",
     "start_time": "2024-10-10T14:36:24.432374Z"
    }
   },
   "cell_type": "code",
   "source": "df",
   "id": "e3db589c976bb44a",
   "outputs": [
    {
     "data": {
      "text/plain": [
       "            0\n",
       "0       Dhaka\n",
       "1    Rajshahi\n",
       "2  Chittagong"
      ],
      "text/html": [
       "<div>\n",
       "<style scoped>\n",
       "    .dataframe tbody tr th:only-of-type {\n",
       "        vertical-align: middle;\n",
       "    }\n",
       "\n",
       "    .dataframe tbody tr th {\n",
       "        vertical-align: top;\n",
       "    }\n",
       "\n",
       "    .dataframe thead th {\n",
       "        text-align: right;\n",
       "    }\n",
       "</style>\n",
       "<table border=\"1\" class=\"dataframe\">\n",
       "  <thead>\n",
       "    <tr style=\"text-align: right;\">\n",
       "      <th></th>\n",
       "      <th>0</th>\n",
       "    </tr>\n",
       "  </thead>\n",
       "  <tbody>\n",
       "    <tr>\n",
       "      <th>0</th>\n",
       "      <td>Dhaka</td>\n",
       "    </tr>\n",
       "    <tr>\n",
       "      <th>1</th>\n",
       "      <td>Rajshahi</td>\n",
       "    </tr>\n",
       "    <tr>\n",
       "      <th>2</th>\n",
       "      <td>Chittagong</td>\n",
       "    </tr>\n",
       "  </tbody>\n",
       "</table>\n",
       "</div>"
      ]
     },
     "execution_count": 8,
     "metadata": {},
     "output_type": "execute_result"
    }
   ],
   "execution_count": 8
  },
  {
   "metadata": {
    "ExecuteTime": {
     "end_time": "2024-10-10T14:36:38.677400Z",
     "start_time": "2024-10-10T14:36:38.655686Z"
    }
   },
   "cell_type": "code",
   "source": "type(df)",
   "id": "3b971a7bdf8b9e99",
   "outputs": [
    {
     "data": {
      "text/plain": [
       "pandas.core.frame.DataFrame"
      ]
     },
     "execution_count": 9,
     "metadata": {},
     "output_type": "execute_result"
    }
   ],
   "execution_count": 9
  },
  {
   "metadata": {
    "ExecuteTime": {
     "end_time": "2024-10-10T14:36:45.934884Z",
     "start_time": "2024-10-10T14:36:45.918721Z"
    }
   },
   "cell_type": "code",
   "source": "type(city)",
   "id": "1fae2297f1a1c8af",
   "outputs": [
    {
     "data": {
      "text/plain": [
       "list"
      ]
     },
     "execution_count": 10,
     "metadata": {},
     "output_type": "execute_result"
    }
   ],
   "execution_count": 10
  },
  {
   "metadata": {
    "ExecuteTime": {
     "end_time": "2024-10-10T14:37:01.818490Z",
     "start_time": "2024-10-10T14:37:01.800425Z"
    }
   },
   "cell_type": "code",
   "source": "row, column = df.shape",
   "id": "a50b06d26ff894bc",
   "outputs": [],
   "execution_count": 12
  },
  {
   "metadata": {
    "ExecuteTime": {
     "end_time": "2024-10-10T14:37:17.504932Z",
     "start_time": "2024-10-10T14:37:17.485192Z"
    }
   },
   "cell_type": "code",
   "source": "row",
   "id": "80e4e0d8f51f602c",
   "outputs": [
    {
     "data": {
      "text/plain": [
       "3"
      ]
     },
     "execution_count": 13,
     "metadata": {},
     "output_type": "execute_result"
    }
   ],
   "execution_count": 13
  },
  {
   "metadata": {
    "ExecuteTime": {
     "end_time": "2024-10-10T14:37:23.861352Z",
     "start_time": "2024-10-10T14:37:23.841887Z"
    }
   },
   "cell_type": "code",
   "source": "column",
   "id": "612d1b373671a98f",
   "outputs": [
    {
     "data": {
      "text/plain": [
       "1"
      ]
     },
     "execution_count": 14,
     "metadata": {},
     "output_type": "execute_result"
    }
   ],
   "execution_count": 14
  },
  {
   "metadata": {
    "ExecuteTime": {
     "end_time": "2024-10-10T14:37:36.477735Z",
     "start_time": "2024-10-10T14:37:36.379949Z"
    }
   },
   "cell_type": "code",
   "source": [
    "df = pd.DataFrame(city, columns=['City_in_BD'])\n",
    "df"
   ],
   "id": "cc265a38a27e5c03",
   "outputs": [
    {
     "data": {
      "text/plain": [
       "   City_in_BD\n",
       "0       Dhaka\n",
       "1    Rajshahi\n",
       "2  Chittagong"
      ],
      "text/html": [
       "<div>\n",
       "<style scoped>\n",
       "    .dataframe tbody tr th:only-of-type {\n",
       "        vertical-align: middle;\n",
       "    }\n",
       "\n",
       "    .dataframe tbody tr th {\n",
       "        vertical-align: top;\n",
       "    }\n",
       "\n",
       "    .dataframe thead th {\n",
       "        text-align: right;\n",
       "    }\n",
       "</style>\n",
       "<table border=\"1\" class=\"dataframe\">\n",
       "  <thead>\n",
       "    <tr style=\"text-align: right;\">\n",
       "      <th></th>\n",
       "      <th>City_in_BD</th>\n",
       "    </tr>\n",
       "  </thead>\n",
       "  <tbody>\n",
       "    <tr>\n",
       "      <th>0</th>\n",
       "      <td>Dhaka</td>\n",
       "    </tr>\n",
       "    <tr>\n",
       "      <th>1</th>\n",
       "      <td>Rajshahi</td>\n",
       "    </tr>\n",
       "    <tr>\n",
       "      <th>2</th>\n",
       "      <td>Chittagong</td>\n",
       "    </tr>\n",
       "  </tbody>\n",
       "</table>\n",
       "</div>"
      ]
     },
     "execution_count": 15,
     "metadata": {},
     "output_type": "execute_result"
    }
   ],
   "execution_count": 15
  },
  {
   "metadata": {
    "ExecuteTime": {
     "end_time": "2024-10-10T14:37:45.722687Z",
     "start_time": "2024-10-10T14:37:45.689007Z"
    }
   },
   "cell_type": "code",
   "source": [
    "df = pd.DataFrame(city, columns=['City_in_BD'], index=['c1','c2','c3'])\n",
    "df"
   ],
   "id": "f0048aac54ff852d",
   "outputs": [
    {
     "data": {
      "text/plain": [
       "    City_in_BD\n",
       "c1       Dhaka\n",
       "c2    Rajshahi\n",
       "c3  Chittagong"
      ],
      "text/html": [
       "<div>\n",
       "<style scoped>\n",
       "    .dataframe tbody tr th:only-of-type {\n",
       "        vertical-align: middle;\n",
       "    }\n",
       "\n",
       "    .dataframe tbody tr th {\n",
       "        vertical-align: top;\n",
       "    }\n",
       "\n",
       "    .dataframe thead th {\n",
       "        text-align: right;\n",
       "    }\n",
       "</style>\n",
       "<table border=\"1\" class=\"dataframe\">\n",
       "  <thead>\n",
       "    <tr style=\"text-align: right;\">\n",
       "      <th></th>\n",
       "      <th>City_in_BD</th>\n",
       "    </tr>\n",
       "  </thead>\n",
       "  <tbody>\n",
       "    <tr>\n",
       "      <th>c1</th>\n",
       "      <td>Dhaka</td>\n",
       "    </tr>\n",
       "    <tr>\n",
       "      <th>c2</th>\n",
       "      <td>Rajshahi</td>\n",
       "    </tr>\n",
       "    <tr>\n",
       "      <th>c3</th>\n",
       "      <td>Chittagong</td>\n",
       "    </tr>\n",
       "  </tbody>\n",
       "</table>\n",
       "</div>"
      ]
     },
     "execution_count": 16,
     "metadata": {},
     "output_type": "execute_result"
    }
   ],
   "execution_count": 16
  },
  {
   "metadata": {
    "ExecuteTime": {
     "end_time": "2024-10-10T14:37:53.782330Z",
     "start_time": "2024-10-10T14:37:53.771699Z"
    }
   },
   "cell_type": "code",
   "source": "city2 = ['Dortmund', 'Paris', 'Postdam']",
   "id": "b3e3060e5480956e",
   "outputs": [],
   "execution_count": 17
  },
  {
   "metadata": {
    "ExecuteTime": {
     "end_time": "2024-10-10T14:38:02.946445Z",
     "start_time": "2024-10-10T14:38:02.934119Z"
    }
   },
   "cell_type": "code",
   "source": "df2 = pd.DataFrame(zip(city, city2), columns=['City1', 'City2'])",
   "id": "ee563d154f2dfad7",
   "outputs": [],
   "execution_count": 18
  },
  {
   "metadata": {
    "ExecuteTime": {
     "end_time": "2024-10-10T14:38:10.283079Z",
     "start_time": "2024-10-10T14:38:10.258623Z"
    }
   },
   "cell_type": "code",
   "source": "df2",
   "id": "5855ffda84cad7f2",
   "outputs": [
    {
     "data": {
      "text/plain": [
       "        City1     City2\n",
       "0       Dhaka  Dortmund\n",
       "1    Rajshahi     Paris\n",
       "2  Chittagong   Postdam"
      ],
      "text/html": [
       "<div>\n",
       "<style scoped>\n",
       "    .dataframe tbody tr th:only-of-type {\n",
       "        vertical-align: middle;\n",
       "    }\n",
       "\n",
       "    .dataframe tbody tr th {\n",
       "        vertical-align: top;\n",
       "    }\n",
       "\n",
       "    .dataframe thead th {\n",
       "        text-align: right;\n",
       "    }\n",
       "</style>\n",
       "<table border=\"1\" class=\"dataframe\">\n",
       "  <thead>\n",
       "    <tr style=\"text-align: right;\">\n",
       "      <th></th>\n",
       "      <th>City1</th>\n",
       "      <th>City2</th>\n",
       "    </tr>\n",
       "  </thead>\n",
       "  <tbody>\n",
       "    <tr>\n",
       "      <th>0</th>\n",
       "      <td>Dhaka</td>\n",
       "      <td>Dortmund</td>\n",
       "    </tr>\n",
       "    <tr>\n",
       "      <th>1</th>\n",
       "      <td>Rajshahi</td>\n",
       "      <td>Paris</td>\n",
       "    </tr>\n",
       "    <tr>\n",
       "      <th>2</th>\n",
       "      <td>Chittagong</td>\n",
       "      <td>Postdam</td>\n",
       "    </tr>\n",
       "  </tbody>\n",
       "</table>\n",
       "</div>"
      ]
     },
     "execution_count": 19,
     "metadata": {},
     "output_type": "execute_result"
    }
   ],
   "execution_count": 19
  },
  {
   "metadata": {
    "ExecuteTime": {
     "end_time": "2024-10-10T14:39:22.035820Z",
     "start_time": "2024-10-10T14:39:22.005981Z"
    }
   },
   "cell_type": "code",
   "source": "df2.shape",
   "id": "8a0807558349a452",
   "outputs": [
    {
     "data": {
      "text/plain": [
       "(3, 2)"
      ]
     },
     "execution_count": 21,
     "metadata": {},
     "output_type": "execute_result"
    }
   ],
   "execution_count": 21
  },
  {
   "metadata": {
    "ExecuteTime": {
     "end_time": "2024-10-10T14:41:43.980486Z",
     "start_time": "2024-10-10T14:41:43.973763Z"
    }
   },
   "cell_type": "code",
   "source": "city3 = [['Bavaria', 'Erlangen'], ['NRW', 'Dortmund']]",
   "id": "e505e7a4effd7ece",
   "outputs": [],
   "execution_count": 23
  },
  {
   "metadata": {
    "ExecuteTime": {
     "end_time": "2024-10-10T14:41:47.287560Z",
     "start_time": "2024-10-10T14:41:47.266335Z"
    }
   },
   "cell_type": "code",
   "source": "city3",
   "id": "d1cc8ea667b9fa93",
   "outputs": [
    {
     "data": {
      "text/plain": [
       "[['Bavaria', 'Erlangen'], ['NRW', 'Dortmund']]"
      ]
     },
     "execution_count": 24,
     "metadata": {},
     "output_type": "execute_result"
    }
   ],
   "execution_count": 24
  },
  {
   "metadata": {
    "ExecuteTime": {
     "end_time": "2024-10-10T14:43:18.896172Z",
     "start_time": "2024-10-10T14:43:18.887245Z"
    }
   },
   "cell_type": "code",
   "source": "df4 = pd.DataFrame(city3, columns=['State', 'City'])",
   "id": "84e5bf71d73b7f53",
   "outputs": [],
   "execution_count": 27
  },
  {
   "metadata": {
    "ExecuteTime": {
     "end_time": "2024-10-10T14:43:20.565531Z",
     "start_time": "2024-10-10T14:43:20.544080Z"
    }
   },
   "cell_type": "code",
   "source": "df4",
   "id": "51a321ea7cbcd056",
   "outputs": [
    {
     "data": {
      "text/plain": [
       "     State      City\n",
       "0  Bavaria  Erlangen\n",
       "1      NRW  Dortmund"
      ],
      "text/html": [
       "<div>\n",
       "<style scoped>\n",
       "    .dataframe tbody tr th:only-of-type {\n",
       "        vertical-align: middle;\n",
       "    }\n",
       "\n",
       "    .dataframe tbody tr th {\n",
       "        vertical-align: top;\n",
       "    }\n",
       "\n",
       "    .dataframe thead th {\n",
       "        text-align: right;\n",
       "    }\n",
       "</style>\n",
       "<table border=\"1\" class=\"dataframe\">\n",
       "  <thead>\n",
       "    <tr style=\"text-align: right;\">\n",
       "      <th></th>\n",
       "      <th>State</th>\n",
       "      <th>City</th>\n",
       "    </tr>\n",
       "  </thead>\n",
       "  <tbody>\n",
       "    <tr>\n",
       "      <th>0</th>\n",
       "      <td>Bavaria</td>\n",
       "      <td>Erlangen</td>\n",
       "    </tr>\n",
       "    <tr>\n",
       "      <th>1</th>\n",
       "      <td>NRW</td>\n",
       "      <td>Dortmund</td>\n",
       "    </tr>\n",
       "  </tbody>\n",
       "</table>\n",
       "</div>"
      ]
     },
     "execution_count": 28,
     "metadata": {},
     "output_type": "execute_result"
    }
   ],
   "execution_count": 28
  },
  {
   "metadata": {
    "ExecuteTime": {
     "end_time": "2024-10-10T14:43:55.538770Z",
     "start_time": "2024-10-10T14:43:55.526476Z"
    }
   },
   "cell_type": "code",
   "source": "city",
   "id": "72818d55ba6878c0",
   "outputs": [
    {
     "data": {
      "text/plain": [
       "['Dhaka', 'Rajshahi', 'Chittagong']"
      ]
     },
     "execution_count": 29,
     "metadata": {},
     "output_type": "execute_result"
    }
   ],
   "execution_count": 29
  },
  {
   "metadata": {
    "ExecuteTime": {
     "end_time": "2024-10-10T14:43:58.489408Z",
     "start_time": "2024-10-10T14:43:58.447079Z"
    }
   },
   "cell_type": "code",
   "source": "city2",
   "id": "bf2156390d2805b7",
   "outputs": [
    {
     "data": {
      "text/plain": [
       "['Dortmund', 'Paris', 'Postdam']"
      ]
     },
     "execution_count": 30,
     "metadata": {},
     "output_type": "execute_result"
    }
   ],
   "execution_count": 30
  },
  {
   "metadata": {
    "ExecuteTime": {
     "end_time": "2024-10-10T14:44:46.609428Z",
     "start_time": "2024-10-10T14:44:46.586727Z"
    }
   },
   "cell_type": "code",
   "source": [
    "dict1 = {\n",
    "    'city1': city,\n",
    "    'city2': city2,\n",
    "}"
   ],
   "id": "c6b3cfc480ddfea8",
   "outputs": [],
   "execution_count": 31
  },
  {
   "metadata": {
    "ExecuteTime": {
     "end_time": "2024-10-10T14:44:51.453979Z",
     "start_time": "2024-10-10T14:44:51.437219Z"
    }
   },
   "cell_type": "code",
   "source": "dict1",
   "id": "a7f8a17540593ebc",
   "outputs": [
    {
     "data": {
      "text/plain": [
       "{'city1': ['Dhaka', 'Rajshahi', 'Chittagong'],\n",
       " 'city2': ['Dortmund', 'Paris', 'Postdam']}"
      ]
     },
     "execution_count": 32,
     "metadata": {},
     "output_type": "execute_result"
    }
   ],
   "execution_count": 32
  },
  {
   "metadata": {
    "ExecuteTime": {
     "end_time": "2024-10-10T14:45:19.384859Z",
     "start_time": "2024-10-10T14:45:19.375336Z"
    }
   },
   "cell_type": "code",
   "source": "df5 = pd.DataFrame(dict1)",
   "id": "483c97b7eca19e08",
   "outputs": [],
   "execution_count": 33
  },
  {
   "metadata": {
    "ExecuteTime": {
     "end_time": "2024-10-10T14:45:24.056553Z",
     "start_time": "2024-10-10T14:45:24.016642Z"
    }
   },
   "cell_type": "code",
   "source": "df5",
   "id": "3827457ca37fd173",
   "outputs": [
    {
     "data": {
      "text/plain": [
       "        city1     city2\n",
       "0       Dhaka  Dortmund\n",
       "1    Rajshahi     Paris\n",
       "2  Chittagong   Postdam"
      ],
      "text/html": [
       "<div>\n",
       "<style scoped>\n",
       "    .dataframe tbody tr th:only-of-type {\n",
       "        vertical-align: middle;\n",
       "    }\n",
       "\n",
       "    .dataframe tbody tr th {\n",
       "        vertical-align: top;\n",
       "    }\n",
       "\n",
       "    .dataframe thead th {\n",
       "        text-align: right;\n",
       "    }\n",
       "</style>\n",
       "<table border=\"1\" class=\"dataframe\">\n",
       "  <thead>\n",
       "    <tr style=\"text-align: right;\">\n",
       "      <th></th>\n",
       "      <th>city1</th>\n",
       "      <th>city2</th>\n",
       "    </tr>\n",
       "  </thead>\n",
       "  <tbody>\n",
       "    <tr>\n",
       "      <th>0</th>\n",
       "      <td>Dhaka</td>\n",
       "      <td>Dortmund</td>\n",
       "    </tr>\n",
       "    <tr>\n",
       "      <th>1</th>\n",
       "      <td>Rajshahi</td>\n",
       "      <td>Paris</td>\n",
       "    </tr>\n",
       "    <tr>\n",
       "      <th>2</th>\n",
       "      <td>Chittagong</td>\n",
       "      <td>Postdam</td>\n",
       "    </tr>\n",
       "  </tbody>\n",
       "</table>\n",
       "</div>"
      ]
     },
     "execution_count": 34,
     "metadata": {},
     "output_type": "execute_result"
    }
   ],
   "execution_count": 34
  },
  {
   "metadata": {
    "ExecuteTime": {
     "end_time": "2024-10-10T14:45:40.762049Z",
     "start_time": "2024-10-10T14:45:40.735466Z"
    }
   },
   "cell_type": "code",
   "source": "type(dict1)",
   "id": "ceba1bbcb23aaa34",
   "outputs": [
    {
     "data": {
      "text/plain": [
       "dict"
      ]
     },
     "execution_count": 35,
     "metadata": {},
     "output_type": "execute_result"
    }
   ],
   "execution_count": 35
  },
  {
   "metadata": {
    "ExecuteTime": {
     "end_time": "2024-10-10T15:02:55.694081Z",
     "start_time": "2024-10-10T15:02:55.648083Z"
    }
   },
   "cell_type": "code",
   "source": "df = pd.read_excel('Data.xlsx')",
   "id": "b48d829134101958",
   "outputs": [],
   "execution_count": 49
  },
  {
   "metadata": {
    "ExecuteTime": {
     "end_time": "2024-10-10T15:02:56.840822Z",
     "start_time": "2024-10-10T15:02:56.815185Z"
    }
   },
   "cell_type": "code",
   "source": "df",
   "id": "da34253aa50ce359",
   "outputs": [
    {
     "data": {
      "text/plain": [
       "  Members  Deposit\n",
       "0   Hablu     2000\n",
       "1   Kablu     3000\n",
       "2   Dablu     1500\n",
       "3    Iblu      200"
      ],
      "text/html": [
       "<div>\n",
       "<style scoped>\n",
       "    .dataframe tbody tr th:only-of-type {\n",
       "        vertical-align: middle;\n",
       "    }\n",
       "\n",
       "    .dataframe tbody tr th {\n",
       "        vertical-align: top;\n",
       "    }\n",
       "\n",
       "    .dataframe thead th {\n",
       "        text-align: right;\n",
       "    }\n",
       "</style>\n",
       "<table border=\"1\" class=\"dataframe\">\n",
       "  <thead>\n",
       "    <tr style=\"text-align: right;\">\n",
       "      <th></th>\n",
       "      <th>Members</th>\n",
       "      <th>Deposit</th>\n",
       "    </tr>\n",
       "  </thead>\n",
       "  <tbody>\n",
       "    <tr>\n",
       "      <th>0</th>\n",
       "      <td>Hablu</td>\n",
       "      <td>2000</td>\n",
       "    </tr>\n",
       "    <tr>\n",
       "      <th>1</th>\n",
       "      <td>Kablu</td>\n",
       "      <td>3000</td>\n",
       "    </tr>\n",
       "    <tr>\n",
       "      <th>2</th>\n",
       "      <td>Dablu</td>\n",
       "      <td>1500</td>\n",
       "    </tr>\n",
       "    <tr>\n",
       "      <th>3</th>\n",
       "      <td>Iblu</td>\n",
       "      <td>200</td>\n",
       "    </tr>\n",
       "  </tbody>\n",
       "</table>\n",
       "</div>"
      ]
     },
     "execution_count": 50,
     "metadata": {},
     "output_type": "execute_result"
    }
   ],
   "execution_count": 50
  },
  {
   "metadata": {
    "ExecuteTime": {
     "end_time": "2024-10-10T15:02:57.926734Z",
     "start_time": "2024-10-10T15:02:57.901411Z"
    }
   },
   "cell_type": "code",
   "source": "df.head()",
   "id": "e8cd3de9baab9202",
   "outputs": [
    {
     "data": {
      "text/plain": [
       "  Members  Deposit\n",
       "0   Hablu     2000\n",
       "1   Kablu     3000\n",
       "2   Dablu     1500\n",
       "3    Iblu      200"
      ],
      "text/html": [
       "<div>\n",
       "<style scoped>\n",
       "    .dataframe tbody tr th:only-of-type {\n",
       "        vertical-align: middle;\n",
       "    }\n",
       "\n",
       "    .dataframe tbody tr th {\n",
       "        vertical-align: top;\n",
       "    }\n",
       "\n",
       "    .dataframe thead th {\n",
       "        text-align: right;\n",
       "    }\n",
       "</style>\n",
       "<table border=\"1\" class=\"dataframe\">\n",
       "  <thead>\n",
       "    <tr style=\"text-align: right;\">\n",
       "      <th></th>\n",
       "      <th>Members</th>\n",
       "      <th>Deposit</th>\n",
       "    </tr>\n",
       "  </thead>\n",
       "  <tbody>\n",
       "    <tr>\n",
       "      <th>0</th>\n",
       "      <td>Hablu</td>\n",
       "      <td>2000</td>\n",
       "    </tr>\n",
       "    <tr>\n",
       "      <th>1</th>\n",
       "      <td>Kablu</td>\n",
       "      <td>3000</td>\n",
       "    </tr>\n",
       "    <tr>\n",
       "      <th>2</th>\n",
       "      <td>Dablu</td>\n",
       "      <td>1500</td>\n",
       "    </tr>\n",
       "    <tr>\n",
       "      <th>3</th>\n",
       "      <td>Iblu</td>\n",
       "      <td>200</td>\n",
       "    </tr>\n",
       "  </tbody>\n",
       "</table>\n",
       "</div>"
      ]
     },
     "execution_count": 51,
     "metadata": {},
     "output_type": "execute_result"
    }
   ],
   "execution_count": 51
  },
  {
   "metadata": {
    "ExecuteTime": {
     "end_time": "2024-10-10T15:02:58.830875Z",
     "start_time": "2024-10-10T15:02:58.806901Z"
    }
   },
   "cell_type": "code",
   "source": "df.tail()",
   "id": "ca50844bef3697c3",
   "outputs": [
    {
     "data": {
      "text/plain": [
       "  Members  Deposit\n",
       "0   Hablu     2000\n",
       "1   Kablu     3000\n",
       "2   Dablu     1500\n",
       "3    Iblu      200"
      ],
      "text/html": [
       "<div>\n",
       "<style scoped>\n",
       "    .dataframe tbody tr th:only-of-type {\n",
       "        vertical-align: middle;\n",
       "    }\n",
       "\n",
       "    .dataframe tbody tr th {\n",
       "        vertical-align: top;\n",
       "    }\n",
       "\n",
       "    .dataframe thead th {\n",
       "        text-align: right;\n",
       "    }\n",
       "</style>\n",
       "<table border=\"1\" class=\"dataframe\">\n",
       "  <thead>\n",
       "    <tr style=\"text-align: right;\">\n",
       "      <th></th>\n",
       "      <th>Members</th>\n",
       "      <th>Deposit</th>\n",
       "    </tr>\n",
       "  </thead>\n",
       "  <tbody>\n",
       "    <tr>\n",
       "      <th>0</th>\n",
       "      <td>Hablu</td>\n",
       "      <td>2000</td>\n",
       "    </tr>\n",
       "    <tr>\n",
       "      <th>1</th>\n",
       "      <td>Kablu</td>\n",
       "      <td>3000</td>\n",
       "    </tr>\n",
       "    <tr>\n",
       "      <th>2</th>\n",
       "      <td>Dablu</td>\n",
       "      <td>1500</td>\n",
       "    </tr>\n",
       "    <tr>\n",
       "      <th>3</th>\n",
       "      <td>Iblu</td>\n",
       "      <td>200</td>\n",
       "    </tr>\n",
       "  </tbody>\n",
       "</table>\n",
       "</div>"
      ]
     },
     "execution_count": 52,
     "metadata": {},
     "output_type": "execute_result"
    }
   ],
   "execution_count": 52
  },
  {
   "metadata": {
    "ExecuteTime": {
     "end_time": "2024-10-10T15:03:49.516110Z",
     "start_time": "2024-10-10T15:03:49.507998Z"
    }
   },
   "cell_type": "code",
   "source": "print(df.values)",
   "id": "71bef5a6b792743a",
   "outputs": [
    {
     "name": "stdout",
     "output_type": "stream",
     "text": [
      "[['Hablu' 2000]\n",
      " ['Kablu' 3000]\n",
      " ['Dablu' 1500]\n",
      " ['Iblu' 200]]\n"
     ]
    }
   ],
   "execution_count": 54
  },
  {
   "metadata": {
    "ExecuteTime": {
     "end_time": "2024-10-10T15:03:54.604598Z",
     "start_time": "2024-10-10T15:03:54.585221Z"
    }
   },
   "cell_type": "code",
   "source": "df.values",
   "id": "b3f00ba2559eecfe",
   "outputs": [
    {
     "data": {
      "text/plain": [
       "array([['Hablu', 2000],\n",
       "       ['Kablu', 3000],\n",
       "       ['Dablu', 1500],\n",
       "       ['Iblu', 200]], dtype=object)"
      ]
     },
     "execution_count": 55,
     "metadata": {},
     "output_type": "execute_result"
    }
   ],
   "execution_count": 55
  },
  {
   "metadata": {
    "ExecuteTime": {
     "end_time": "2024-10-10T15:03:57.582615Z",
     "start_time": "2024-10-10T15:03:57.569615Z"
    }
   },
   "cell_type": "code",
   "source": "df.columns",
   "id": "82adf533676a4496",
   "outputs": [
    {
     "data": {
      "text/plain": [
       "Index(['Members', 'Deposit'], dtype='object')"
      ]
     },
     "execution_count": 56,
     "metadata": {},
     "output_type": "execute_result"
    }
   ],
   "execution_count": 56
  },
  {
   "metadata": {
    "ExecuteTime": {
     "end_time": "2024-10-10T16:18:39.092455Z",
     "start_time": "2024-10-10T16:18:39.019403Z"
    }
   },
   "cell_type": "code",
   "source": "print(df.index)",
   "id": "1cbe3b1619bdf6a7",
   "outputs": [
    {
     "name": "stdout",
     "output_type": "stream",
     "text": [
      "RangeIndex(start=0, stop=4, step=1)\n"
     ]
    }
   ],
   "execution_count": 57
  },
  {
   "metadata": {
    "ExecuteTime": {
     "end_time": "2024-10-10T16:19:32.749560Z",
     "start_time": "2024-10-10T16:19:32.729572Z"
    }
   },
   "cell_type": "code",
   "source": "df.Deposit",
   "id": "e56f619bd4441383",
   "outputs": [
    {
     "data": {
      "text/plain": [
       "0    2000\n",
       "1    3000\n",
       "2    1500\n",
       "3     200\n",
       "Name: Deposit, dtype: int64"
      ]
     },
     "execution_count": 58,
     "metadata": {},
     "output_type": "execute_result"
    }
   ],
   "execution_count": 58
  },
  {
   "metadata": {
    "ExecuteTime": {
     "end_time": "2024-10-10T16:20:15.245662Z",
     "start_time": "2024-10-10T16:20:15.223655Z"
    }
   },
   "cell_type": "code",
   "source": "df['Members']",
   "id": "8cc01fa809db804d",
   "outputs": [
    {
     "data": {
      "text/plain": [
       "0    Hablu\n",
       "1    Kablu\n",
       "2    Dablu\n",
       "3     Iblu\n",
       "Name: Members, dtype: object"
      ]
     },
     "execution_count": 59,
     "metadata": {},
     "output_type": "execute_result"
    }
   ],
   "execution_count": 59
  },
  {
   "metadata": {
    "ExecuteTime": {
     "end_time": "2024-10-10T16:21:30.602063Z",
     "start_time": "2024-10-10T16:21:30.587831Z"
    }
   },
   "cell_type": "code",
   "source": "df['Members'].head(2)",
   "id": "fa6934c5a76c2216",
   "outputs": [
    {
     "data": {
      "text/plain": [
       "0    Hablu\n",
       "1    Kablu\n",
       "Name: Members, dtype: object"
      ]
     },
     "execution_count": 60,
     "metadata": {},
     "output_type": "execute_result"
    }
   ],
   "execution_count": 60
  },
  {
   "metadata": {
    "ExecuteTime": {
     "end_time": "2024-10-10T16:35:32.319164Z",
     "start_time": "2024-10-10T16:35:32.294831Z"
    }
   },
   "cell_type": "code",
   "source": "df[['Members','Deposit']].head()",
   "id": "1eb555fc85b4d25a",
   "outputs": [
    {
     "data": {
      "text/plain": [
       "  Members  Deposit\n",
       "0   Hablu     2000\n",
       "1   Kablu     3000\n",
       "2   Dablu     1500\n",
       "3    Iblu      200"
      ],
      "text/html": [
       "<div>\n",
       "<style scoped>\n",
       "    .dataframe tbody tr th:only-of-type {\n",
       "        vertical-align: middle;\n",
       "    }\n",
       "\n",
       "    .dataframe tbody tr th {\n",
       "        vertical-align: top;\n",
       "    }\n",
       "\n",
       "    .dataframe thead th {\n",
       "        text-align: right;\n",
       "    }\n",
       "</style>\n",
       "<table border=\"1\" class=\"dataframe\">\n",
       "  <thead>\n",
       "    <tr style=\"text-align: right;\">\n",
       "      <th></th>\n",
       "      <th>Members</th>\n",
       "      <th>Deposit</th>\n",
       "    </tr>\n",
       "  </thead>\n",
       "  <tbody>\n",
       "    <tr>\n",
       "      <th>0</th>\n",
       "      <td>Hablu</td>\n",
       "      <td>2000</td>\n",
       "    </tr>\n",
       "    <tr>\n",
       "      <th>1</th>\n",
       "      <td>Kablu</td>\n",
       "      <td>3000</td>\n",
       "    </tr>\n",
       "    <tr>\n",
       "      <th>2</th>\n",
       "      <td>Dablu</td>\n",
       "      <td>1500</td>\n",
       "    </tr>\n",
       "    <tr>\n",
       "      <th>3</th>\n",
       "      <td>Iblu</td>\n",
       "      <td>200</td>\n",
       "    </tr>\n",
       "  </tbody>\n",
       "</table>\n",
       "</div>"
      ]
     },
     "execution_count": 62,
     "metadata": {},
     "output_type": "execute_result"
    }
   ],
   "execution_count": 62
  },
  {
   "metadata": {
    "ExecuteTime": {
     "end_time": "2024-10-10T16:36:56.491407Z",
     "start_time": "2024-10-10T16:36:56.478381Z"
    }
   },
   "cell_type": "code",
   "source": "df['Deposit'].sort_values()",
   "id": "ae4e0a9e21b6ab92",
   "outputs": [
    {
     "data": {
      "text/plain": [
       "3     200\n",
       "2    1500\n",
       "0    2000\n",
       "1    3000\n",
       "Name: Deposit, dtype: int64"
      ]
     },
     "execution_count": 63,
     "metadata": {},
     "output_type": "execute_result"
    }
   ],
   "execution_count": 63
  },
  {
   "metadata": {
    "ExecuteTime": {
     "end_time": "2024-10-10T16:38:04.186633Z",
     "start_time": "2024-10-10T16:38:04.173934Z"
    }
   },
   "cell_type": "code",
   "source": "df['Deposit'].sort_values(ascending=False)",
   "id": "6916225c59eb706e",
   "outputs": [
    {
     "data": {
      "text/plain": [
       "1    3000\n",
       "0    2000\n",
       "2    1500\n",
       "3     200\n",
       "Name: Deposit, dtype: int64"
      ]
     },
     "execution_count": 64,
     "metadata": {},
     "output_type": "execute_result"
    }
   ],
   "execution_count": 64
  },
  {
   "metadata": {
    "ExecuteTime": {
     "end_time": "2024-10-10T16:38:52.288023Z",
     "start_time": "2024-10-10T16:38:52.269680Z"
    }
   },
   "cell_type": "code",
   "source": "df.sort_values('Deposit', ascending=False)",
   "id": "9fae0c8a71682977",
   "outputs": [
    {
     "data": {
      "text/plain": [
       "  Members  Deposit\n",
       "1   Kablu     3000\n",
       "0   Hablu     2000\n",
       "2   Dablu     1500\n",
       "3    Iblu      200"
      ],
      "text/html": [
       "<div>\n",
       "<style scoped>\n",
       "    .dataframe tbody tr th:only-of-type {\n",
       "        vertical-align: middle;\n",
       "    }\n",
       "\n",
       "    .dataframe tbody tr th {\n",
       "        vertical-align: top;\n",
       "    }\n",
       "\n",
       "    .dataframe thead th {\n",
       "        text-align: right;\n",
       "    }\n",
       "</style>\n",
       "<table border=\"1\" class=\"dataframe\">\n",
       "  <thead>\n",
       "    <tr style=\"text-align: right;\">\n",
       "      <th></th>\n",
       "      <th>Members</th>\n",
       "      <th>Deposit</th>\n",
       "    </tr>\n",
       "  </thead>\n",
       "  <tbody>\n",
       "    <tr>\n",
       "      <th>1</th>\n",
       "      <td>Kablu</td>\n",
       "      <td>3000</td>\n",
       "    </tr>\n",
       "    <tr>\n",
       "      <th>0</th>\n",
       "      <td>Hablu</td>\n",
       "      <td>2000</td>\n",
       "    </tr>\n",
       "    <tr>\n",
       "      <th>2</th>\n",
       "      <td>Dablu</td>\n",
       "      <td>1500</td>\n",
       "    </tr>\n",
       "    <tr>\n",
       "      <th>3</th>\n",
       "      <td>Iblu</td>\n",
       "      <td>200</td>\n",
       "    </tr>\n",
       "  </tbody>\n",
       "</table>\n",
       "</div>"
      ]
     },
     "execution_count": 65,
     "metadata": {},
     "output_type": "execute_result"
    }
   ],
   "execution_count": 65
  },
  {
   "metadata": {
    "ExecuteTime": {
     "end_time": "2024-10-10T16:39:21.990465Z",
     "start_time": "2024-10-10T16:39:21.974101Z"
    }
   },
   "cell_type": "code",
   "source": "df.sort_values('Deposit', ascending=True)",
   "id": "4073897c7588dc68",
   "outputs": [
    {
     "data": {
      "text/plain": [
       "  Members  Deposit\n",
       "3    Iblu      200\n",
       "2   Dablu     1500\n",
       "0   Hablu     2000\n",
       "1   Kablu     3000"
      ],
      "text/html": [
       "<div>\n",
       "<style scoped>\n",
       "    .dataframe tbody tr th:only-of-type {\n",
       "        vertical-align: middle;\n",
       "    }\n",
       "\n",
       "    .dataframe tbody tr th {\n",
       "        vertical-align: top;\n",
       "    }\n",
       "\n",
       "    .dataframe thead th {\n",
       "        text-align: right;\n",
       "    }\n",
       "</style>\n",
       "<table border=\"1\" class=\"dataframe\">\n",
       "  <thead>\n",
       "    <tr style=\"text-align: right;\">\n",
       "      <th></th>\n",
       "      <th>Members</th>\n",
       "      <th>Deposit</th>\n",
       "    </tr>\n",
       "  </thead>\n",
       "  <tbody>\n",
       "    <tr>\n",
       "      <th>3</th>\n",
       "      <td>Iblu</td>\n",
       "      <td>200</td>\n",
       "    </tr>\n",
       "    <tr>\n",
       "      <th>2</th>\n",
       "      <td>Dablu</td>\n",
       "      <td>1500</td>\n",
       "    </tr>\n",
       "    <tr>\n",
       "      <th>0</th>\n",
       "      <td>Hablu</td>\n",
       "      <td>2000</td>\n",
       "    </tr>\n",
       "    <tr>\n",
       "      <th>1</th>\n",
       "      <td>Kablu</td>\n",
       "      <td>3000</td>\n",
       "    </tr>\n",
       "  </tbody>\n",
       "</table>\n",
       "</div>"
      ]
     },
     "execution_count": 66,
     "metadata": {},
     "output_type": "execute_result"
    }
   ],
   "execution_count": 66
  },
  {
   "metadata": {
    "ExecuteTime": {
     "end_time": "2024-10-10T16:40:00.296004Z",
     "start_time": "2024-10-10T16:40:00.261205Z"
    }
   },
   "cell_type": "code",
   "source": "df.describe()",
   "id": "9f7d81c66dc94325",
   "outputs": [
    {
     "data": {
      "text/plain": [
       "           Deposit\n",
       "count     4.000000\n",
       "mean   1675.000000\n",
       "std    1164.402565\n",
       "min     200.000000\n",
       "25%    1175.000000\n",
       "50%    1750.000000\n",
       "75%    2250.000000\n",
       "max    3000.000000"
      ],
      "text/html": [
       "<div>\n",
       "<style scoped>\n",
       "    .dataframe tbody tr th:only-of-type {\n",
       "        vertical-align: middle;\n",
       "    }\n",
       "\n",
       "    .dataframe tbody tr th {\n",
       "        vertical-align: top;\n",
       "    }\n",
       "\n",
       "    .dataframe thead th {\n",
       "        text-align: right;\n",
       "    }\n",
       "</style>\n",
       "<table border=\"1\" class=\"dataframe\">\n",
       "  <thead>\n",
       "    <tr style=\"text-align: right;\">\n",
       "      <th></th>\n",
       "      <th>Deposit</th>\n",
       "    </tr>\n",
       "  </thead>\n",
       "  <tbody>\n",
       "    <tr>\n",
       "      <th>count</th>\n",
       "      <td>4.000000</td>\n",
       "    </tr>\n",
       "    <tr>\n",
       "      <th>mean</th>\n",
       "      <td>1675.000000</td>\n",
       "    </tr>\n",
       "    <tr>\n",
       "      <th>std</th>\n",
       "      <td>1164.402565</td>\n",
       "    </tr>\n",
       "    <tr>\n",
       "      <th>min</th>\n",
       "      <td>200.000000</td>\n",
       "    </tr>\n",
       "    <tr>\n",
       "      <th>25%</th>\n",
       "      <td>1175.000000</td>\n",
       "    </tr>\n",
       "    <tr>\n",
       "      <th>50%</th>\n",
       "      <td>1750.000000</td>\n",
       "    </tr>\n",
       "    <tr>\n",
       "      <th>75%</th>\n",
       "      <td>2250.000000</td>\n",
       "    </tr>\n",
       "    <tr>\n",
       "      <th>max</th>\n",
       "      <td>3000.000000</td>\n",
       "    </tr>\n",
       "  </tbody>\n",
       "</table>\n",
       "</div>"
      ]
     },
     "execution_count": 67,
     "metadata": {},
     "output_type": "execute_result"
    }
   ],
   "execution_count": 67
  },
  {
   "metadata": {
    "ExecuteTime": {
     "end_time": "2024-10-10T16:43:11.900516Z",
     "start_time": "2024-10-10T16:43:11.868922Z"
    }
   },
   "cell_type": "code",
   "source": "df['Deposit'] > 1000",
   "id": "7c51ad206c861702",
   "outputs": [
    {
     "data": {
      "text/plain": [
       "0     True\n",
       "1     True\n",
       "2     True\n",
       "3    False\n",
       "Name: Deposit, dtype: bool"
      ]
     },
     "execution_count": 71,
     "metadata": {},
     "output_type": "execute_result"
    }
   ],
   "execution_count": 71
  },
  {
   "metadata": {
    "ExecuteTime": {
     "end_time": "2024-10-10T16:43:28.637434Z",
     "start_time": "2024-10-10T16:43:28.619428Z"
    }
   },
   "cell_type": "code",
   "source": "df[df['Deposit'] > 1000]",
   "id": "1fa8e1d07b28db12",
   "outputs": [
    {
     "data": {
      "text/plain": [
       "  Members  Deposit\n",
       "0   Hablu     2000\n",
       "1   Kablu     3000\n",
       "2   Dablu     1500"
      ],
      "text/html": [
       "<div>\n",
       "<style scoped>\n",
       "    .dataframe tbody tr th:only-of-type {\n",
       "        vertical-align: middle;\n",
       "    }\n",
       "\n",
       "    .dataframe tbody tr th {\n",
       "        vertical-align: top;\n",
       "    }\n",
       "\n",
       "    .dataframe thead th {\n",
       "        text-align: right;\n",
       "    }\n",
       "</style>\n",
       "<table border=\"1\" class=\"dataframe\">\n",
       "  <thead>\n",
       "    <tr style=\"text-align: right;\">\n",
       "      <th></th>\n",
       "      <th>Members</th>\n",
       "      <th>Deposit</th>\n",
       "    </tr>\n",
       "  </thead>\n",
       "  <tbody>\n",
       "    <tr>\n",
       "      <th>0</th>\n",
       "      <td>Hablu</td>\n",
       "      <td>2000</td>\n",
       "    </tr>\n",
       "    <tr>\n",
       "      <th>1</th>\n",
       "      <td>Kablu</td>\n",
       "      <td>3000</td>\n",
       "    </tr>\n",
       "    <tr>\n",
       "      <th>2</th>\n",
       "      <td>Dablu</td>\n",
       "      <td>1500</td>\n",
       "    </tr>\n",
       "  </tbody>\n",
       "</table>\n",
       "</div>"
      ]
     },
     "execution_count": 72,
     "metadata": {},
     "output_type": "execute_result"
    }
   ],
   "execution_count": 72
  },
  {
   "metadata": {
    "ExecuteTime": {
     "end_time": "2024-10-10T16:44:28.353773Z",
     "start_time": "2024-10-10T16:44:28.286568Z"
    }
   },
   "cell_type": "code",
   "source": "df[df['Members'] == 'Hablu']",
   "id": "c73777de4a318047",
   "outputs": [
    {
     "data": {
      "text/plain": [
       "  Members  Deposit\n",
       "0   Hablu     2000"
      ],
      "text/html": [
       "<div>\n",
       "<style scoped>\n",
       "    .dataframe tbody tr th:only-of-type {\n",
       "        vertical-align: middle;\n",
       "    }\n",
       "\n",
       "    .dataframe tbody tr th {\n",
       "        vertical-align: top;\n",
       "    }\n",
       "\n",
       "    .dataframe thead th {\n",
       "        text-align: right;\n",
       "    }\n",
       "</style>\n",
       "<table border=\"1\" class=\"dataframe\">\n",
       "  <thead>\n",
       "    <tr style=\"text-align: right;\">\n",
       "      <th></th>\n",
       "      <th>Members</th>\n",
       "      <th>Deposit</th>\n",
       "    </tr>\n",
       "  </thead>\n",
       "  <tbody>\n",
       "    <tr>\n",
       "      <th>0</th>\n",
       "      <td>Hablu</td>\n",
       "      <td>2000</td>\n",
       "    </tr>\n",
       "  </tbody>\n",
       "</table>\n",
       "</div>"
      ]
     },
     "execution_count": 73,
     "metadata": {},
     "output_type": "execute_result"
    }
   ],
   "execution_count": 73
  },
  {
   "metadata": {
    "ExecuteTime": {
     "end_time": "2024-10-10T16:46:15.154999Z",
     "start_time": "2024-10-10T16:46:15.137531Z"
    }
   },
   "cell_type": "code",
   "source": "df[(df['Members'] == 'Hablu') | (df['Members'] == 'Dablu')]",
   "id": "a9fd83076990272a",
   "outputs": [
    {
     "data": {
      "text/plain": [
       "  Members  Deposit\n",
       "0   Hablu     2000\n",
       "2   Dablu     1500"
      ],
      "text/html": [
       "<div>\n",
       "<style scoped>\n",
       "    .dataframe tbody tr th:only-of-type {\n",
       "        vertical-align: middle;\n",
       "    }\n",
       "\n",
       "    .dataframe tbody tr th {\n",
       "        vertical-align: top;\n",
       "    }\n",
       "\n",
       "    .dataframe thead th {\n",
       "        text-align: right;\n",
       "    }\n",
       "</style>\n",
       "<table border=\"1\" class=\"dataframe\">\n",
       "  <thead>\n",
       "    <tr style=\"text-align: right;\">\n",
       "      <th></th>\n",
       "      <th>Members</th>\n",
       "      <th>Deposit</th>\n",
       "    </tr>\n",
       "  </thead>\n",
       "  <tbody>\n",
       "    <tr>\n",
       "      <th>0</th>\n",
       "      <td>Hablu</td>\n",
       "      <td>2000</td>\n",
       "    </tr>\n",
       "    <tr>\n",
       "      <th>2</th>\n",
       "      <td>Dablu</td>\n",
       "      <td>1500</td>\n",
       "    </tr>\n",
       "  </tbody>\n",
       "</table>\n",
       "</div>"
      ]
     },
     "execution_count": 76,
     "metadata": {},
     "output_type": "execute_result"
    }
   ],
   "execution_count": 76
  },
  {
   "metadata": {
    "ExecuteTime": {
     "end_time": "2024-10-10T16:47:12.695498Z",
     "start_time": "2024-10-10T16:47:12.672287Z"
    }
   },
   "cell_type": "code",
   "source": "df['Members'].isin(['Hablu', 'Dablu'])",
   "id": "adfe8f35f7314d80",
   "outputs": [
    {
     "data": {
      "text/plain": [
       "0     True\n",
       "1    False\n",
       "2     True\n",
       "3    False\n",
       "Name: Members, dtype: bool"
      ]
     },
     "execution_count": 77,
     "metadata": {},
     "output_type": "execute_result"
    }
   ],
   "execution_count": 77
  },
  {
   "metadata": {
    "ExecuteTime": {
     "end_time": "2024-10-10T16:47:35.060423Z",
     "start_time": "2024-10-10T16:47:35.036144Z"
    }
   },
   "cell_type": "code",
   "source": "df[df['Members'].isin(['Hablu', 'Dablu'])]",
   "id": "fefe2f3fa62b85c6",
   "outputs": [
    {
     "data": {
      "text/plain": [
       "  Members  Deposit\n",
       "0   Hablu     2000\n",
       "2   Dablu     1500"
      ],
      "text/html": [
       "<div>\n",
       "<style scoped>\n",
       "    .dataframe tbody tr th:only-of-type {\n",
       "        vertical-align: middle;\n",
       "    }\n",
       "\n",
       "    .dataframe tbody tr th {\n",
       "        vertical-align: top;\n",
       "    }\n",
       "\n",
       "    .dataframe thead th {\n",
       "        text-align: right;\n",
       "    }\n",
       "</style>\n",
       "<table border=\"1\" class=\"dataframe\">\n",
       "  <thead>\n",
       "    <tr style=\"text-align: right;\">\n",
       "      <th></th>\n",
       "      <th>Members</th>\n",
       "      <th>Deposit</th>\n",
       "    </tr>\n",
       "  </thead>\n",
       "  <tbody>\n",
       "    <tr>\n",
       "      <th>0</th>\n",
       "      <td>Hablu</td>\n",
       "      <td>2000</td>\n",
       "    </tr>\n",
       "    <tr>\n",
       "      <th>2</th>\n",
       "      <td>Dablu</td>\n",
       "      <td>1500</td>\n",
       "    </tr>\n",
       "  </tbody>\n",
       "</table>\n",
       "</div>"
      ]
     },
     "execution_count": 78,
     "metadata": {},
     "output_type": "execute_result"
    }
   ],
   "execution_count": 78
  },
  {
   "metadata": {},
   "cell_type": "code",
   "outputs": [],
   "execution_count": null,
   "source": "",
   "id": "1e694c65ef5875ff"
  }
 ],
 "metadata": {
  "kernelspec": {
   "display_name": "Python 3",
   "language": "python",
   "name": "python3"
  },
  "language_info": {
   "codemirror_mode": {
    "name": "ipython",
    "version": 2
   },
   "file_extension": ".py",
   "mimetype": "text/x-python",
   "name": "python",
   "nbconvert_exporter": "python",
   "pygments_lexer": "ipython2",
   "version": "2.7.6"
  }
 },
 "nbformat": 4,
 "nbformat_minor": 5
}
