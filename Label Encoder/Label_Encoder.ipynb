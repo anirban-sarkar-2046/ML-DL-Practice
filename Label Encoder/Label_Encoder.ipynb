{
 "cells": [
  {
   "cell_type": "markdown",
   "id": "f356c439-9ea6-4e25-aff5-919f38ef48cc",
   "metadata": {},
   "source": [
    "# 1. Label Encoder"
   ]
  },
  {
   "cell_type": "code",
   "execution_count": 1,
   "id": "60413232-ab5f-4698-8f4d-f227034d3687",
   "metadata": {},
   "outputs": [],
   "source": [
    "classes = ['ClassA', 'ClassB', 'ClassC', 'ClassD']\n",
    "\n",
    "instances = ['ClassA', 'ClassB', 'ClassC', 'ClassD', 'ClassA', 'ClassB', 'ClassC', 'ClassD', 'ClassA', 'ClassB']"
   ]
  },
  {
   "cell_type": "code",
   "execution_count": 2,
   "id": "8d4a8b9c-2587-4e20-bcc0-e03a996a9244",
   "metadata": {},
   "outputs": [
    {
     "name": "stdout",
     "output_type": "stream",
     "text": [
      "Encoded labels: [0, 1, 2, 3, 0, 1, 2, 3, 0, 1]\n"
     ]
    }
   ],
   "source": [
    "label_to_int = {label: index for index, label in enumerate(classes)} \n",
    "encoded_labels = [label_to_int[label] for label in instances]\n",
    "\n",
    "print(\"Encoded labels:\", encoded_labels)"
   ]
  },
  {
   "cell_type": "code",
   "execution_count": 3,
   "id": "312dfbf1-8c0a-4614-b4c1-a0ff7c898b13",
   "metadata": {},
   "outputs": [
    {
     "name": "stdout",
     "output_type": "stream",
     "text": [
      "Encoded labels: [0, 1, 2, 3, 0, 1, 2, 3, 0, 1]\n",
      "Decoded labels: ['ClassA', 'ClassB', 'ClassC', 'ClassD', 'ClassA', 'ClassB', 'ClassC', 'ClassD', 'ClassA', 'ClassB']\n"
     ]
    }
   ],
   "source": [
    "int_to_label = {index: label for label, index in label_to_int.items()}\n",
    "decoded_labels = [int_to_label[index] for index in encoded_labels]\n",
    "\n",
    "print(\"Encoded labels:\", encoded_labels)\n",
    "print(\"Decoded labels:\", decoded_labels)"
   ]
  },
  {
   "cell_type": "markdown",
   "id": "3cf4b556-5265-4051-a2a0-15b21ab31203",
   "metadata": {},
   "source": [
    "# SKlearn - Label Encoder"
   ]
  },
  {
   "cell_type": "code",
   "execution_count": 4,
   "id": "e16f83f5-ecad-4053-8174-de12c650a524",
   "metadata": {},
   "outputs": [],
   "source": [
    "from sklearn.preprocessing import LabelEncoder"
   ]
  },
  {
   "cell_type": "code",
   "execution_count": 5,
   "id": "742c9d36-546a-40c3-9a92-af1962dac81d",
   "metadata": {},
   "outputs": [
    {
     "name": "stdout",
     "output_type": "stream",
     "text": [
      "Encoded labels: [0 1 2 3 0 1 2 3 0 1]\n"
     ]
    }
   ],
   "source": [
    "label_encoder = LabelEncoder()\n",
    "encoded_labels = label_encoder.fit_transform(instances)\n",
    "\n",
    "print(\"Encoded labels:\", encoded_labels)"
   ]
  },
  {
   "cell_type": "code",
   "execution_count": 6,
   "id": "61eaa082-cf14-4fcd-9539-d208b0b835a6",
   "metadata": {},
   "outputs": [
    {
     "name": "stdout",
     "output_type": "stream",
     "text": [
      "Encoded labels: [0 1 2 3 0 1 2 3 0 1]\n",
      "Original labels: ['ClassA' 'ClassB' 'ClassC' 'ClassD' 'ClassA' 'ClassB' 'ClassC' 'ClassD'\n",
      " 'ClassA' 'ClassB']\n"
     ]
    }
   ],
   "source": [
    "original_labels = label_encoder.inverse_transform(encoded_labels)\n",
    "\n",
    "print(\"Encoded labels:\", encoded_labels)\n",
    "print(\"Original labels:\", original_labels)"
   ]
  }
 ],
 "metadata": {
  "kernelspec": {
   "display_name": "Python 3 (ipykernel)",
   "language": "python",
   "name": "python3"
  },
  "language_info": {
   "codemirror_mode": {
    "name": "ipython",
    "version": 3
   },
   "file_extension": ".py",
   "mimetype": "text/x-python",
   "name": "python",
   "nbconvert_exporter": "python",
   "pygments_lexer": "ipython3",
   "version": "3.12.5"
  }
 },
 "nbformat": 4,
 "nbformat_minor": 5
}
